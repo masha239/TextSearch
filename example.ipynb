{
 "cells": [
  {
   "cell_type": "code",
   "execution_count": 1,
   "id": "2070ad6c",
   "metadata": {},
   "outputs": [],
   "source": [
    "import requests"
   ]
  },
  {
   "cell_type": "code",
   "execution_count": 2,
   "id": "a685b97d",
   "metadata": {},
   "outputs": [],
   "source": [
    "test_path = 'Desktop/bigdata/Texts/server/test.csv'"
   ]
  },
  {
   "cell_type": "code",
   "execution_count": 3,
   "id": "7329d428",
   "metadata": {},
   "outputs": [
    {
     "name": "stdout",
     "output_type": "stream",
     "text": [
      "200 OK b'{\"created\":\"2023-02-10\",\"experiment\":\"m1\",\"hash_commit\":\"ffecbad3ac3ef131de2d094bc4bfcf80e8442497\"}\\n'\n"
     ]
    }
   ],
   "source": [
    "r = requests.get(\"http://127.0.0.1:8080/model/metadata\")\n",
    "print(r.status_code, r.reason, r._content)"
   ]
  },
  {
   "cell_type": "code",
   "execution_count": 4,
   "id": "479ce3af",
   "metadata": {},
   "outputs": [
    {
     "name": "stdout",
     "output_type": "stream",
     "text": [
      "200 OK b'[{\"answer\":0},200]\\n'\n"
     ]
    }
   ],
   "source": [
    "r = requests.post(\"http://127.0.0.1:8080/model/forward\", json={'url': 'https://vse-knigi.com'})\n",
    "print(r.status_code, r.reason, r._content)"
   ]
  },
  {
   "cell_type": "code",
   "execution_count": 5,
   "id": "255b2ca8",
   "metadata": {},
   "outputs": [
    {
     "name": "stdout",
     "output_type": "stream",
     "text": [
      "200 OK b'{\"answer\":[\"0\",\"1\",\"0\",\"None\"],\"metrics\":{\"accuracy\":1.0,\"f1\":1.0}}\\n'\n"
     ]
    }
   ],
   "source": [
    "files = {'datafile': open(test_path, 'rb')}\n",
    "r = requests.post(\"http://127.0.0.1:8080/model/evaluate\", files=files)\n",
    "print(r.status_code, r.reason, r._content)"
   ]
  },
  {
   "cell_type": "code",
   "execution_count": 6,
   "id": "f3a1ab82",
   "metadata": {},
   "outputs": [
    {
     "name": "stdout",
     "output_type": "stream",
     "text": [
      "200 OK b'{\"Links\":92,\"Texts found\":0,\"Texts saved\":0}\\n'\n"
     ]
    }
   ],
   "source": [
    "r = requests.post(\"http://127.0.0.1:8080/process_link\", json={'url': 'https://vse-knigi.com/'})\n",
    "print(r.status_code, r.reason, r._content)"
   ]
  },
  {
   "cell_type": "code",
   "execution_count": 7,
   "id": "b7b6457f",
   "metadata": {},
   "outputs": [
    {
     "name": "stdout",
     "output_type": "stream",
     "text": [
      "200 OK b'{\"Links\":43,\"Texts found\":19,\"Texts saved\":0}\\n'\n"
     ]
    }
   ],
   "source": [
    "r = requests.post(\"http://127.0.0.1:8080/process_link\", json={'url': 'http://lib.ru/lat/SCHOOL/'})\n",
    "print(r.status_code, r.reason, r._content)"
   ]
  }
 ],
 "metadata": {
  "kernelspec": {
   "display_name": "Python 3 (ipykernel)",
   "language": "python",
   "name": "python3"
  },
  "language_info": {
   "codemirror_mode": {
    "name": "ipython",
    "version": 3
   },
   "file_extension": ".py",
   "mimetype": "text/x-python",
   "name": "python",
   "nbconvert_exporter": "python",
   "pygments_lexer": "ipython3",
   "version": "3.9.13"
  }
 },
 "nbformat": 4,
 "nbformat_minor": 5
}
